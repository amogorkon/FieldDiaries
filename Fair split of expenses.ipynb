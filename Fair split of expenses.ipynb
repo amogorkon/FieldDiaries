{
 "cells": [
  {
   "cell_type": "markdown",
   "metadata": {},
   "source": [
    "Let's say you take a trip with your friends or you live with your room mates in an appartment. In both cases, there are things that you buy for yourself and there are investments that are best shared as common goods.\n",
    "At some point the trip is over or your room mates move out, so how to split those shared expenses?\n",
    "Easy one might think, let's just split everything by the number of people, right? Well, in reality it's never so easy. There are two basic approaches to the problem: a common pool or calculate all interdependencies by use of matrixing.\n",
    "Both approaches work and should get you to the same results but have different advantages and disadvantages.\n",
    "\n",
    "## Pooling\n",
    "Anyone with a basic education will come up with the idea of pooling, and there is a certain charm in its simplicity. The often implicit assumption is that the community has a common pool of resources and all expenses are calculated against this common pool - NOT between each member."
   ]
  },
  {
   "cell_type": "code",
   "execution_count": 1,
   "metadata": {},
   "outputs": [
    {
     "name": "stdout",
     "output_type": "stream",
     "text": [
      "\n",
      "G -> A: -1.0\n",
      "G -> B: 0.0\n",
      "G -> C: 1.0\n"
     ]
    }
   ],
   "source": [
    "# Member expenses in total\n",
    "A = 0\n",
    "B = 1\n",
    "C = 2\n",
    "\n",
    "# number of members\n",
    "n = 3\n",
    "\n",
    "total = A + B + C\n",
    "# the share of each member that needs to be paid to balance all\n",
    "share = total/n\n",
    "\n",
    "# debits and credits of members to community\n",
    "balance_A = A - share\n",
    "balance_B = B - share\n",
    "balance_C = C - share\n",
    "\n",
    "print(f\"\"\"\n",
    "G -> A: {round(balance_A,2)}\n",
    "G -> B: {round(balance_B,2)}\n",
    "G -> C: {round(balance_C, 2)}\"\"\")"
   ]
  },
  {
   "cell_type": "markdown",
   "metadata": {},
   "source": [
    "This approach will work well if all expenses etc. are done only with respect to the common pool, but will break down quickly if members have credits and debits amongst each other.\n",
    "Also, it is important to note that actually implementing a common pool either by using a bank account or a sock with money in it is recommended, otherwise the temptation is great to include favors amongst members in the calculation, which will overcomplicate the calculation quickly.\n",
    "\n",
    "Note that this approach is common amongst larger organisations where the additinal overhead of maintaining a common pool is justified."
   ]
  },
  {
   "cell_type": "markdown",
   "metadata": {},
   "source": [
    "## Matrixing\n",
    "\n",
    "The idea here is that, sure, all expenses should be shared in the end, but there is no need to maintain a common pool and no need to exclude private favours between members to calculate the balance between each member.\n",
    "So, the only thing needed for this is to note down all expenses by each member over the course of time that should be shared in the end. This has the clear advantage of reducing the bureaucratic overhead to a bare minimum but also means a slightly more complex calculation at the end."
   ]
  },
  {
   "cell_type": "code",
   "execution_count": 2,
   "metadata": {
    "scrolled": true
   },
   "outputs": [
    {
     "name": "stdout",
     "output_type": "stream",
     "text": [
      "[[ 0.          0.33333333  0.66666667]\n",
      " [ 0.          0.          0.66666667]\n",
      " [ 0.          0.33333333  0.        ]]\n",
      "\n",
      "A -> B: 0.33\n",
      "A -> C: 0.67\n",
      "B -> C: 0.33\n"
     ]
    }
   ],
   "source": [
    "from numpy import zeros, fill_diagonal\n",
    "\n",
    "# Member expenses in total\n",
    "A = 0\n",
    "B = 1\n",
    "C = 2\n",
    "\n",
    "# number of members\n",
    "n = 3\n",
    "\n",
    "M = zeros((n, n))\n",
    "\n",
    "M[0:n,0] = A * 1/n\n",
    "M[0:n,1] = B * 1/n\n",
    "M[0:n,2] = C * 1/n\n",
    "\n",
    "fill_diagonal(M, 0)\n",
    "\n",
    "print(M)\n",
    "\n",
    "T = M.transpose()\n",
    "\n",
    "A2B = T[1,0] - M[1,0]\n",
    "A2C = T[2,0] - M[2,0]\n",
    "B2C = T[2,1] - M[2,1]\n",
    "\n",
    "print(f\"\"\"\n",
    "A -> B: {round(A2B,2)}\n",
    "A -> C: {round(A2C,2)}\n",
    "B -> C: {round(B2C, 2)}\"\"\")"
   ]
  },
  {
   "cell_type": "markdown",
   "metadata": {},
   "source": [
    "Clearly, B and C have no obligations to A, so A clearly must pay 1/3 of both expenses without compensation.\n",
    "For B and C it's not so simple since C also needs to pay 1/3 of B's expenses, which is summed with what B owes C, which is exactly the amount of money that A owes B. The amount A -> B -> C is exactly the amount missing between A -> C for a full 1, which is also the amount calculated by pooling much more easily.\n",
    "It is obvious that matrixing is more daunting and complex (but not really complicated) than pooling - except when it isn't. With matrixing it is possible to include each and every credit amongst members without making things more complicated, while it is impossible to include those in the pooling approach. If there are many such favours with a pooling approach, it may become necessary to additionally use matrixing in the end - so why not use it in the first place?\n",
    "\n",
    "Note that this means that there is one unnecessary transaction that could be eliminated."
   ]
  },
  {
   "cell_type": "markdown",
   "metadata": {},
   "source": [
    "with real numbers from my appartment:"
   ]
  },
  {
   "cell_type": "code",
   "execution_count": 3,
   "metadata": {},
   "outputs": [
    {
     "name": "stdout",
     "output_type": "stream",
     "text": [
      "[[  0.           5.55        11.04666667]\n",
      " [  4.99333333   0.          11.04666667]\n",
      " [  9.99333333  10.55         0.        ]]\n",
      "\n",
      "A -> B: 0.56\n",
      "A -> C: 1.05\n",
      "B -> C: 0.5\n"
     ]
    }
   ],
   "source": [
    "from numpy import zeros\n",
    "\n",
    "# Member expenses in total\n",
    "\n",
    "A = 14.98\n",
    "B = 16.65 \n",
    "C = 33.14\n",
    "\n",
    "# number of members\n",
    "n = 3\n",
    "\n",
    "M = zeros((n, n))\n",
    "\n",
    "M[0:n,0] = A * 1/n\n",
    "M[0:n,1] = B * 1/n\n",
    "M[0:n,2] = C * 1/n\n",
    "\n",
    "M[2,0:2] += 5  # things like this aren't possible with pooling\n",
    "\n",
    "fill_diagonal(M, 0)\n",
    "\n",
    "print(M)\n",
    "\n",
    "T = M.transpose()\n",
    "\n",
    "A2B = T[1,0] - M[1,0]\n",
    "A2C = T[2,0] - M[2,0]\n",
    "B2C = T[2,1] - M[2,1]\n",
    "\n",
    "print(f\"\"\"\n",
    "A -> B: {round(A2B,2)}\n",
    "A -> C: {round(A2C,2)}\n",
    "B -> C: {round(B2C, 2)}\"\"\")"
   ]
  },
  {
   "cell_type": "code",
   "execution_count": 34,
   "metadata": {},
   "outputs": [
    {
     "name": "stdout",
     "output_type": "stream",
     "text": [
      "[[ 0.          1.3125      3.5525      0.        ]\n",
      " [22.26666667  0.          3.5525      0.        ]\n",
      " [21.          1.3125      0.          0.        ]\n",
      " [22.26666667  1.3125      3.5525      0.        ]]\n",
      "L, S, V -> A\n",
      "-20.954166666666666 -17.447499999999998 -22.266666666666666\n",
      "V -> L, S\n",
      "-1.3125 -3.5525\n",
      "L -> S\n",
      "-2.24\n"
     ]
    }
   ],
   "source": [
    "from numpy import zeros, fill_diagonal\n",
    "\n",
    "# Totalausgaben 2018-08-03\n",
    "A = 16\n",
    "L = 2.25+3\n",
    "S = 0.86+1.95+2.15+3+2.75+3.5\n",
    "V = 0\n",
    "\n",
    "# Anzahl Mitbewohner\n",
    "n = 4\n",
    "\n",
    "M = zeros((n, n))\n",
    "\n",
    "\n",
    "M[:,0] = A * 1/n\n",
    "M[:,1] = L * 1/n # Lars\n",
    "M[:,2] = S * 1/n # Sarah\n",
    "M[:,3] = V * 1/n # Verena\n",
    "\n",
    "fill_diagonal(M, 0)\n",
    "\n",
    "M[1,0] += 54.80 / 3 # Glastisch\n",
    "M[3,0] += 54.80 / 3 # Glastisch\n",
    "M[2,0] += 17 # Essen\n",
    "\n",
    "print(M)\n",
    "\n",
    "T = M.transpose()\n",
    "\n",
    "L2A = T[1,0] - M[1,0]\n",
    "S2A = T[2,0] - M[2,0]\n",
    "V2A = T[3,0] - M[3,0]\n",
    "print(\"L, S, V -> A\")\n",
    "print(L2A, S2A, V2A)\n",
    "\n",
    "V2L = T[3,1] - M[3,1]\n",
    "V2S = T[3,2] - M[3,2]\n",
    "print(\"V -> L, S\")\n",
    "print(V2L, V2S)\n",
    "\n",
    "L2S = T[1,2] - M[1,2]\n",
    "print(\"L -> S\")\n",
    "print(L2S)"
   ]
  }
 ],
 "metadata": {
  "kernelspec": {
   "display_name": "Python 3",
   "language": "python",
   "name": "python3"
  },
  "language_info": {
   "codemirror_mode": {
    "name": "ipython",
    "version": 3
   },
   "file_extension": ".py",
   "mimetype": "text/x-python",
   "name": "python",
   "nbconvert_exporter": "python",
   "pygments_lexer": "ipython3",
   "version": "3.7.6"
  }
 },
 "nbformat": 4,
 "nbformat_minor": 2
}
